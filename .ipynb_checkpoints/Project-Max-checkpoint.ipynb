{
 "cells": [
  {
   "cell_type": "markdown",
   "metadata": {},
   "source": [
    "# YOUR PYTHON 2020 WRAPPED\n",
    "### Spotify Data Analysis\n",
    "\n",
    "Contributors:\n",
    "* Robert Hall\n",
    "* Ryan Berberek\n",
    "* Ximena Cid Sanabria\n",
    "* Max Moran"
   ]
  },
  {
   "cell_type": "markdown",
   "metadata": {},
   "source": [
    "### Table of Contents:\n",
    "\n",
    "1. Data Importation & Exploratory Data Analysis\n",
    "2. Who Are The Top 5 Artists Represented In The Dataset?\n",
    "3. What Genre Categories Are Represented? What Is The Proportional Distribution Of Genres?\n",
    "4. Visualizing Each Variable's Correlation With The Others Using A Correlation Matrix\n",
    "5. Linear Model To Analyze The Correlation Between Song Duration (`song_duration`) And Popularity Score (`track_score`)\n",
    "6. Linear Model To Analyze The Correlation Between Perceived Song Energy (`energy`) And Percieved Song Loudness (`loudness`)\n",
    "7. Comparative Analysis On Performance Of The Prior Two Linear Models"
   ]
  },
  {
   "cell_type": "markdown",
   "metadata": {},
   "source": [
    "### Introduction\n",
    "\n",
    "For this project, we focused on a 2020 Spotify dataset and the effects it had on holistic observations for over 32k tracks. This can help us better understand exactly why a song performs well in certain areas. After cleaning and a general overview of the data, we looked at correlation, proportions, and created linear models to analyze variables of interest. We plan to use pie charts, correlation matrices, and scikit-learn regression models to address the problem. Our analysis will serve users in helping accurately identify why a track performs or feels the way it does."
   ]
  },
  {
   "cell_type": "markdown",
   "metadata": {},
   "source": [
    "### 1. Data Importation & Exploratory Data Analysis"
   ]
  },
  {
   "cell_type": "code",
   "execution_count": 1,
   "metadata": {},
   "outputs": [
    {
     "data": {
      "text/html": [
       "<div>\n",
       "<style scoped>\n",
       "    .dataframe tbody tr th:only-of-type {\n",
       "        vertical-align: middle;\n",
       "    }\n",
       "\n",
       "    .dataframe tbody tr th {\n",
       "        vertical-align: top;\n",
       "    }\n",
       "\n",
       "    .dataframe thead th {\n",
       "        text-align: right;\n",
       "    }\n",
       "</style>\n",
       "<table border=\"1\" class=\"dataframe\">\n",
       "  <thead>\n",
       "    <tr style=\"text-align: right;\">\n",
       "      <th></th>\n",
       "      <th>track_id</th>\n",
       "      <th>track_name</th>\n",
       "      <th>track_artist</th>\n",
       "      <th>track_popularity</th>\n",
       "      <th>track_album_id</th>\n",
       "      <th>track_album_name</th>\n",
       "      <th>track_album_release_date</th>\n",
       "      <th>playlist_name</th>\n",
       "      <th>playlist_id</th>\n",
       "      <th>playlist_genre</th>\n",
       "      <th>...</th>\n",
       "      <th>key</th>\n",
       "      <th>loudness</th>\n",
       "      <th>mode</th>\n",
       "      <th>speechiness</th>\n",
       "      <th>acousticness</th>\n",
       "      <th>instrumentalness</th>\n",
       "      <th>liveness</th>\n",
       "      <th>valence</th>\n",
       "      <th>tempo</th>\n",
       "      <th>duration_ms</th>\n",
       "    </tr>\n",
       "  </thead>\n",
       "  <tbody>\n",
       "    <tr>\n",
       "      <th>0</th>\n",
       "      <td>6f807x0ima9a1j3VPbc7VN</td>\n",
       "      <td>I Don't Care (with Justin Bieber) - Loud Luxur...</td>\n",
       "      <td>Ed Sheeran</td>\n",
       "      <td>66</td>\n",
       "      <td>2oCs0DGTsRO98Gh5ZSl2Cx</td>\n",
       "      <td>I Don't Care (with Justin Bieber) [Loud Luxury...</td>\n",
       "      <td>2019-06-14</td>\n",
       "      <td>Pop Remix</td>\n",
       "      <td>37i9dQZF1DXcZDD7cfEKhW</td>\n",
       "      <td>pop</td>\n",
       "      <td>...</td>\n",
       "      <td>6</td>\n",
       "      <td>-2.634</td>\n",
       "      <td>1</td>\n",
       "      <td>0.0583</td>\n",
       "      <td>0.1020</td>\n",
       "      <td>0.000000</td>\n",
       "      <td>0.0653</td>\n",
       "      <td>0.518</td>\n",
       "      <td>122.036</td>\n",
       "      <td>194754</td>\n",
       "    </tr>\n",
       "    <tr>\n",
       "      <th>1</th>\n",
       "      <td>0r7CVbZTWZgbTCYdfa2P31</td>\n",
       "      <td>Memories - Dillon Francis Remix</td>\n",
       "      <td>Maroon 5</td>\n",
       "      <td>67</td>\n",
       "      <td>63rPSO264uRjW1X5E6cWv6</td>\n",
       "      <td>Memories (Dillon Francis Remix)</td>\n",
       "      <td>2019-12-13</td>\n",
       "      <td>Pop Remix</td>\n",
       "      <td>37i9dQZF1DXcZDD7cfEKhW</td>\n",
       "      <td>pop</td>\n",
       "      <td>...</td>\n",
       "      <td>11</td>\n",
       "      <td>-4.969</td>\n",
       "      <td>1</td>\n",
       "      <td>0.0373</td>\n",
       "      <td>0.0724</td>\n",
       "      <td>0.004210</td>\n",
       "      <td>0.3570</td>\n",
       "      <td>0.693</td>\n",
       "      <td>99.972</td>\n",
       "      <td>162600</td>\n",
       "    </tr>\n",
       "    <tr>\n",
       "      <th>2</th>\n",
       "      <td>1z1Hg7Vb0AhHDiEmnDE79l</td>\n",
       "      <td>All the Time - Don Diablo Remix</td>\n",
       "      <td>Zara Larsson</td>\n",
       "      <td>70</td>\n",
       "      <td>1HoSmj2eLcsrR0vE9gThr4</td>\n",
       "      <td>All the Time (Don Diablo Remix)</td>\n",
       "      <td>2019-07-05</td>\n",
       "      <td>Pop Remix</td>\n",
       "      <td>37i9dQZF1DXcZDD7cfEKhW</td>\n",
       "      <td>pop</td>\n",
       "      <td>...</td>\n",
       "      <td>1</td>\n",
       "      <td>-3.432</td>\n",
       "      <td>0</td>\n",
       "      <td>0.0742</td>\n",
       "      <td>0.0794</td>\n",
       "      <td>0.000023</td>\n",
       "      <td>0.1100</td>\n",
       "      <td>0.613</td>\n",
       "      <td>124.008</td>\n",
       "      <td>176616</td>\n",
       "    </tr>\n",
       "    <tr>\n",
       "      <th>3</th>\n",
       "      <td>75FpbthrwQmzHlBJLuGdC7</td>\n",
       "      <td>Call You Mine - Keanu Silva Remix</td>\n",
       "      <td>The Chainsmokers</td>\n",
       "      <td>60</td>\n",
       "      <td>1nqYsOef1yKKuGOVchbsk6</td>\n",
       "      <td>Call You Mine - The Remixes</td>\n",
       "      <td>2019-07-19</td>\n",
       "      <td>Pop Remix</td>\n",
       "      <td>37i9dQZF1DXcZDD7cfEKhW</td>\n",
       "      <td>pop</td>\n",
       "      <td>...</td>\n",
       "      <td>7</td>\n",
       "      <td>-3.778</td>\n",
       "      <td>1</td>\n",
       "      <td>0.1020</td>\n",
       "      <td>0.0287</td>\n",
       "      <td>0.000009</td>\n",
       "      <td>0.2040</td>\n",
       "      <td>0.277</td>\n",
       "      <td>121.956</td>\n",
       "      <td>169093</td>\n",
       "    </tr>\n",
       "    <tr>\n",
       "      <th>4</th>\n",
       "      <td>1e8PAfcKUYoKkxPhrHqw4x</td>\n",
       "      <td>Someone You Loved - Future Humans Remix</td>\n",
       "      <td>Lewis Capaldi</td>\n",
       "      <td>69</td>\n",
       "      <td>7m7vv9wlQ4i0LFuJiE2zsQ</td>\n",
       "      <td>Someone You Loved (Future Humans Remix)</td>\n",
       "      <td>2019-03-05</td>\n",
       "      <td>Pop Remix</td>\n",
       "      <td>37i9dQZF1DXcZDD7cfEKhW</td>\n",
       "      <td>pop</td>\n",
       "      <td>...</td>\n",
       "      <td>1</td>\n",
       "      <td>-4.672</td>\n",
       "      <td>1</td>\n",
       "      <td>0.0359</td>\n",
       "      <td>0.0803</td>\n",
       "      <td>0.000000</td>\n",
       "      <td>0.0833</td>\n",
       "      <td>0.725</td>\n",
       "      <td>123.976</td>\n",
       "      <td>189052</td>\n",
       "    </tr>\n",
       "  </tbody>\n",
       "</table>\n",
       "<p>5 rows × 23 columns</p>\n",
       "</div>"
      ],
      "text/plain": [
       "                 track_id                                         track_name  \\\n",
       "0  6f807x0ima9a1j3VPbc7VN  I Don't Care (with Justin Bieber) - Loud Luxur...   \n",
       "1  0r7CVbZTWZgbTCYdfa2P31                    Memories - Dillon Francis Remix   \n",
       "2  1z1Hg7Vb0AhHDiEmnDE79l                    All the Time - Don Diablo Remix   \n",
       "3  75FpbthrwQmzHlBJLuGdC7                  Call You Mine - Keanu Silva Remix   \n",
       "4  1e8PAfcKUYoKkxPhrHqw4x            Someone You Loved - Future Humans Remix   \n",
       "\n",
       "       track_artist  track_popularity          track_album_id  \\\n",
       "0        Ed Sheeran                66  2oCs0DGTsRO98Gh5ZSl2Cx   \n",
       "1          Maroon 5                67  63rPSO264uRjW1X5E6cWv6   \n",
       "2      Zara Larsson                70  1HoSmj2eLcsrR0vE9gThr4   \n",
       "3  The Chainsmokers                60  1nqYsOef1yKKuGOVchbsk6   \n",
       "4     Lewis Capaldi                69  7m7vv9wlQ4i0LFuJiE2zsQ   \n",
       "\n",
       "                                    track_album_name track_album_release_date  \\\n",
       "0  I Don't Care (with Justin Bieber) [Loud Luxury...               2019-06-14   \n",
       "1                    Memories (Dillon Francis Remix)               2019-12-13   \n",
       "2                    All the Time (Don Diablo Remix)               2019-07-05   \n",
       "3                        Call You Mine - The Remixes               2019-07-19   \n",
       "4            Someone You Loved (Future Humans Remix)               2019-03-05   \n",
       "\n",
       "  playlist_name             playlist_id playlist_genre  ... key  loudness  \\\n",
       "0     Pop Remix  37i9dQZF1DXcZDD7cfEKhW            pop  ...   6    -2.634   \n",
       "1     Pop Remix  37i9dQZF1DXcZDD7cfEKhW            pop  ...  11    -4.969   \n",
       "2     Pop Remix  37i9dQZF1DXcZDD7cfEKhW            pop  ...   1    -3.432   \n",
       "3     Pop Remix  37i9dQZF1DXcZDD7cfEKhW            pop  ...   7    -3.778   \n",
       "4     Pop Remix  37i9dQZF1DXcZDD7cfEKhW            pop  ...   1    -4.672   \n",
       "\n",
       "   mode  speechiness  acousticness  instrumentalness  liveness  valence  \\\n",
       "0     1       0.0583        0.1020          0.000000    0.0653    0.518   \n",
       "1     1       0.0373        0.0724          0.004210    0.3570    0.693   \n",
       "2     0       0.0742        0.0794          0.000023    0.1100    0.613   \n",
       "3     1       0.1020        0.0287          0.000009    0.2040    0.277   \n",
       "4     1       0.0359        0.0803          0.000000    0.0833    0.725   \n",
       "\n",
       "     tempo  duration_ms  \n",
       "0  122.036       194754  \n",
       "1   99.972       162600  \n",
       "2  124.008       176616  \n",
       "3  121.956       169093  \n",
       "4  123.976       189052  \n",
       "\n",
       "[5 rows x 23 columns]"
      ]
     },
     "execution_count": 1,
     "metadata": {},
     "output_type": "execute_result"
    }
   ],
   "source": [
    "# import pandas and set up dataframe\n",
    "import pandas as pd\n",
    "data = pd.read_csv('spotify_songs.csv')\n",
    "data.head()"
   ]
  },
  {
   "cell_type": "code",
   "execution_count": 2,
   "metadata": {},
   "outputs": [
    {
     "data": {
      "text/plain": [
       "track_id                     object\n",
       "track_name                   object\n",
       "track_artist                 object\n",
       "track_popularity              int64\n",
       "track_album_id               object\n",
       "track_album_name             object\n",
       "track_album_release_date     object\n",
       "playlist_name                object\n",
       "playlist_id                  object\n",
       "playlist_genre               object\n",
       "playlist_subgenre            object\n",
       "danceability                float64\n",
       "energy                      float64\n",
       "key                           int64\n",
       "loudness                    float64\n",
       "mode                          int64\n",
       "speechiness                 float64\n",
       "acousticness                float64\n",
       "instrumentalness            float64\n",
       "liveness                    float64\n",
       "valence                     float64\n",
       "tempo                       float64\n",
       "duration_ms                   int64\n",
       "dtype: object"
      ]
     },
     "execution_count": 2,
     "metadata": {},
     "output_type": "execute_result"
    }
   ],
   "source": [
    "# check what features are available, and the datatypes of each feature \n",
    "data.dtypes"
   ]
  },
  {
   "cell_type": "markdown",
   "metadata": {},
   "source": [
    "### 2. Who Are The Top 5 Artists Represented In The Dataset?"
   ]
  },
  {
   "cell_type": "code",
   "execution_count": 3,
   "metadata": {},
   "outputs": [
    {
     "data": {
      "text/plain": [
       "track_artist        5\n",
       "track_popularity    0\n",
       "dtype: int64"
      ]
     },
     "execution_count": 3,
     "metadata": {},
     "output_type": "execute_result"
    }
   ],
   "source": [
    "# dataframe containing only features track_artist, track_popularity\n",
    "artist_scores = data[['track_artist', 'track_popularity']]\n",
    "\n",
    "# check for null values\n",
    "artist_scores.isnull().sum()"
   ]
  },
  {
   "cell_type": "code",
   "execution_count": 4,
   "metadata": {},
   "outputs": [
    {
     "data": {
      "text/plain": [
       "track_artist        0\n",
       "track_popularity    0\n",
       "dtype: int64"
      ]
     },
     "execution_count": 4,
     "metadata": {},
     "output_type": "execute_result"
    }
   ],
   "source": [
    "# drop instances where track_artist is null\n",
    "artist_scores = artist_scores.dropna(subset=['track_artist'])\n",
    "\n",
    "# check once again for null values\n",
    "artist_scores.isnull().sum()"
   ]
  },
  {
   "cell_type": "code",
   "execution_count": 5,
   "metadata": {},
   "outputs": [
    {
     "data": {
      "text/html": [
       "<div>\n",
       "<style scoped>\n",
       "    .dataframe tbody tr th:only-of-type {\n",
       "        vertical-align: middle;\n",
       "    }\n",
       "\n",
       "    .dataframe tbody tr th {\n",
       "        vertical-align: top;\n",
       "    }\n",
       "\n",
       "    .dataframe thead th {\n",
       "        text-align: right;\n",
       "    }\n",
       "</style>\n",
       "<table border=\"1\" class=\"dataframe\">\n",
       "  <thead>\n",
       "    <tr style=\"text-align: right;\">\n",
       "      <th></th>\n",
       "      <th>Artist</th>\n",
       "      <th>Average Popularity Score</th>\n",
       "    </tr>\n",
       "  </thead>\n",
       "  <tbody>\n",
       "    <tr>\n",
       "      <th>9735</th>\n",
       "      <td>Trevor Daniel</td>\n",
       "      <td>97.00</td>\n",
       "    </tr>\n",
       "    <tr>\n",
       "      <th>10242</th>\n",
       "      <td>Y2K</td>\n",
       "      <td>91.00</td>\n",
       "    </tr>\n",
       "    <tr>\n",
       "      <th>2601</th>\n",
       "      <td>Don Toliver</td>\n",
       "      <td>90.71</td>\n",
       "    </tr>\n",
       "    <tr>\n",
       "      <th>7959</th>\n",
       "      <td>Roddy Ricch</td>\n",
       "      <td>88.21</td>\n",
       "    </tr>\n",
       "    <tr>\n",
       "      <th>2209</th>\n",
       "      <td>DaBaby</td>\n",
       "      <td>87.86</td>\n",
       "    </tr>\n",
       "  </tbody>\n",
       "</table>\n",
       "</div>"
      ],
      "text/plain": [
       "              Artist  Average Popularity Score\n",
       "9735   Trevor Daniel                     97.00\n",
       "10242            Y2K                     91.00\n",
       "2601     Don Toliver                     90.71\n",
       "7959     Roddy Ricch                     88.21\n",
       "2209          DaBaby                     87.86"
      ]
     },
     "execution_count": 5,
     "metadata": {},
     "output_type": "execute_result"
    }
   ],
   "source": [
    "# generate the dataframe of average artist scores, in descending order\n",
    "highest_scores = artist_scores.groupby('track_artist')['track_popularity'].mean().reset_index()\n",
    "\n",
    "# sort highest scores in descending order\n",
    "highest_scores = highest_scores.sort_values(by='track_popularity', ascending=False)\n",
    "\n",
    "# get the top 5 scores\n",
    "highest_scores  = highest_scores[0:5]\n",
    "\n",
    "# round track_popularity to 2 decimal places\n",
    "highest_scores['track_popularity'] = round(highest_scores['track_popularity'], 2)\n",
    "\n",
    "# rename columns to more apt titles\n",
    "highest_scores.rename(columns={'track_artist': 'Artist',\n",
    "                               'track_popularity': 'Average Popularity Score'})"
   ]
  },
  {
   "cell_type": "code",
   "execution_count": 6,
   "metadata": {},
   "outputs": [],
   "source": [
    "# VISUALIZATION HERE"
   ]
  },
  {
   "cell_type": "markdown",
   "metadata": {},
   "source": [
    "### 3. What Genre Categories Are Represented? What Is The Proportional Distribution Of Genres?"
   ]
  },
  {
   "cell_type": "code",
   "execution_count": 7,
   "metadata": {},
   "outputs": [],
   "source": [
    "# Code Here"
   ]
  },
  {
   "cell_type": "markdown",
   "metadata": {},
   "source": [
    "### 4. Visualizing Each Variable's Correlation With The Others Using A Correlation Matrix"
   ]
  },
  {
   "cell_type": "code",
   "execution_count": 8,
   "metadata": {},
   "outputs": [],
   "source": [
    "# Code Here"
   ]
  },
  {
   "cell_type": "markdown",
   "metadata": {},
   "source": [
    "### 5. Linear Model To Analyze The Correlation Between Song Duration (`song_duration`) And Popularity Score (`track_score`)"
   ]
  },
  {
   "cell_type": "code",
   "execution_count": 44,
   "metadata": {},
   "outputs": [],
   "source": [
    "# import necessary libraries\n",
    "from sklearn.preprocessing import StandardScaler\n",
    "from sklearn.model_selection import train_test_split\n",
    "from sklearn.linear_model import LinearRegression\n",
    "\n",
    "# create new feature 'duration_min' out of 'duration_ms'\n",
    "data['duration_min'] = data['duration_ms'] / 60000\n",
    "\n",
    "# define input features and prediction variable\n",
    "X = data[['duration_min']]\n",
    "y = data['track_popularity']\n",
    "\n",
    "# split data into training and test data\n",
    "X_train, X_test, y_train, y_test = train_test_split(X, y, test_size=0.2, train_size=0.8)\n",
    "\n",
    "# build and fit model\n",
    "model_dur_pop = LinearRegression()\n",
    "model_dur_pop.fit(X_train, y_train)\n",
    "\n",
    "# get predicted values\n",
    "y_pred_dur_pop = model_dur_pop.predict(X_test)"
   ]
  },
  {
   "cell_type": "code",
   "execution_count": 45,
   "metadata": {},
   "outputs": [
    {
     "data": {
      "text/plain": [
       "Text(0, 0.5, 'Track Popularity')"
      ]
     },
     "execution_count": 45,
     "metadata": {},
     "output_type": "execute_result"
    },
    {
     "data": {
      "image/png": "[encoded data removed]",
      "text/plain": [
       "<Figure size 640x480 with 1 Axes>"
      ]
     },
     "metadata": {},
     "output_type": "display_data"
    }
   ],
   "source": [
    "# get predicted y-values for all x instead of only the test subset, to match the length when plotting against all \n",
    "pred_y_dur_pop = model_dur_pop.predict(X)\n",
    "\n",
    "# create dataframe for plot\n",
    "plot_df = pd.DataFrame({\"Duration (min)\": X['duration_min'],\n",
    "                        \"Actual Popularity\": y,\n",
    "                        \"Predicted Popularity\": pred_y_dur_pop})\n",
    "\n",
    "import seaborn as sns\n",
    "sns.set_palette('Greens_d')\n",
    "\n",
    "# Create scatter plot for observed data points\n",
    "ax = plot_df.plot(x='Duration (min)', y='Actual Popularity', style='o', label='Observed Values')\n",
    "\n",
    "# Create line plot for the fitted line\n",
    "plot_df.sort_values('Duration (min)', inplace=True)\n",
    "plot_df.plot(x='Duration (min)', y='Predicted Popularity', kind='line', ax=ax, label='Regression Line')\n",
    "#plt.ylim(-0.125, 1)\n",
    "#plt.xlim(-30, 0)\n",
    "\n",
    "# Add titles and labels\n",
    "ax.set_title('Track Popularity Plotted Against \\nSong Duration')\n",
    "ax.set_xlabel('Song Duration (min)')\n",
    "ax.set_ylabel('Track Popularity')"
   ]
  },
  {
   "cell_type": "markdown",
   "metadata": {},
   "source": [
    "The datapoints are scattered every which way from the line and show no convergence around a single trend. The regression line is negative and downsloping, but this does not offset the high variance in the dataset, which we can infer means the duration (time length) of a song holds little explaination for the song's popularity score. "
   ]
  },
  {
   "cell_type": "code",
   "execution_count": 46,
   "metadata": {},
   "outputs": [],
   "source": [
    "# get coefficient, intercept, and regression line equation for the loudness-energy model\n",
    "coef_duration_popularity = model_dur_pop.coef_[0]\n",
    "intercept_duration_popularity = model_dur_pop.intercept_\n",
    "regline_duration_popularity = f\"y = {round(model_dur_pop.coef_[0], 2)}x + {round(model_dur_pop.intercept_, 2)}\"\n",
    "\n",
    "# import metric functions from sklearn metrics library\n",
    "from sklearn.metrics import r2_score\n",
    "from sklearn.metrics import mean_squared_error\n",
    "from sklearn.metrics import mean_absolute_error\n",
    "\n",
    "# get standard metrics (for later comparative analysis)\n",
    "R2_duration_popularity = r2_score(y_test, y_pred_dur_pop) # R^2 coefficient\n",
    "mae_duration_popularity = mean_absolute_error(y_test, y_pred_dur_pop) # mean absolute error\n",
    "mse_duration_popularity = mean_squared_error(y_test, y_pred_dur_pop) # mean squared error"
   ]
  },
  {
   "cell_type": "markdown",
   "metadata": {},
   "source": [
    "### 6. Linear Model To Analyze The Correlation Between Perceived Song Energy (`energy`) And Percieved Song Loudness (`loudness`)"
   ]
  },
  {
   "cell_type": "code",
   "execution_count": 47,
   "metadata": {},
   "outputs": [
    {
     "data": {
      "text/html": [
       "<div>\n",
       "<style scoped>\n",
       "    .dataframe tbody tr th:only-of-type {\n",
       "        vertical-align: middle;\n",
       "    }\n",
       "\n",
       "    .dataframe tbody tr th {\n",
       "        vertical-align: top;\n",
       "    }\n",
       "\n",
       "    .dataframe thead th {\n",
       "        text-align: right;\n",
       "    }\n",
       "</style>\n",
       "<table border=\"1\" class=\"dataframe\">\n",
       "  <thead>\n",
       "    <tr style=\"text-align: right;\">\n",
       "      <th></th>\n",
       "      <th>loudness</th>\n",
       "      <th>energy</th>\n",
       "    </tr>\n",
       "  </thead>\n",
       "  <tbody>\n",
       "    <tr>\n",
       "      <th>count</th>\n",
       "      <td>32833.000000</td>\n",
       "      <td>32833.000000</td>\n",
       "    </tr>\n",
       "    <tr>\n",
       "      <th>mean</th>\n",
       "      <td>-6.719499</td>\n",
       "      <td>0.698619</td>\n",
       "    </tr>\n",
       "    <tr>\n",
       "      <th>std</th>\n",
       "      <td>2.988436</td>\n",
       "      <td>0.180910</td>\n",
       "    </tr>\n",
       "    <tr>\n",
       "      <th>min</th>\n",
       "      <td>-46.448000</td>\n",
       "      <td>0.000175</td>\n",
       "    </tr>\n",
       "    <tr>\n",
       "      <th>25%</th>\n",
       "      <td>-8.171000</td>\n",
       "      <td>0.581000</td>\n",
       "    </tr>\n",
       "    <tr>\n",
       "      <th>50%</th>\n",
       "      <td>-6.166000</td>\n",
       "      <td>0.721000</td>\n",
       "    </tr>\n",
       "    <tr>\n",
       "      <th>75%</th>\n",
       "      <td>-4.645000</td>\n",
       "      <td>0.840000</td>\n",
       "    </tr>\n",
       "    <tr>\n",
       "      <th>max</th>\n",
       "      <td>1.275000</td>\n",
       "      <td>1.000000</td>\n",
       "    </tr>\n",
       "  </tbody>\n",
       "</table>\n",
       "</div>"
      ],
      "text/plain": [
       "           loudness        energy\n",
       "count  32833.000000  32833.000000\n",
       "mean      -6.719499      0.698619\n",
       "std        2.988436      0.180910\n",
       "min      -46.448000      0.000175\n",
       "25%       -8.171000      0.581000\n",
       "50%       -6.166000      0.721000\n",
       "75%       -4.645000      0.840000\n",
       "max        1.275000      1.000000"
      ]
     },
     "execution_count": 47,
     "metadata": {},
     "output_type": "execute_result"
    }
   ],
   "source": [
    "# check the descriptive statistics of the features of interest\n",
    "data[['loudness', 'energy']].describe()"
   ]
  },
  {
   "cell_type": "code",
   "execution_count": 48,
   "metadata": {},
   "outputs": [],
   "source": [
    "# import necessary libraries\n",
    "from sklearn.preprocessing import StandardScaler\n",
    "from sklearn.model_selection import train_test_split\n",
    "from sklearn.linear_model import LinearRegression\n",
    "\n",
    "# define input features and prediction variable\n",
    "X = data[['loudness']]\n",
    "y = data['energy']\n",
    "\n",
    "# split data into training and test data\n",
    "X_train, X_test, y_train, y_test = train_test_split(X, y, test_size=0.2, train_size=0.8)\n",
    "\n",
    "# build and fit model\n",
    "model = LinearRegression()\n",
    "model.fit(X_train, y_train)\n",
    "\n",
    "# get predicted values\n",
    "y_pred = model.predict(X_test)"
   ]
  },
  {
   "cell_type": "code",
   "execution_count": 49,
   "metadata": {},
   "outputs": [
    {
     "data": {
      "text/plain": [
       "Text(0, 0.5, 'Energy Score')"
      ]
     },
     "execution_count": 49,
     "metadata": {},
     "output_type": "execute_result"
    },
    {
     "data": {
      "image/png": "[encoded data removed]",
      "text/plain": [
       "<Figure size 640x480 with 1 Axes>"
      ]
     },
     "metadata": {},
     "output_type": "display_data"
    }
   ],
   "source": [
    "# generate scatterplot with regression line for predicted energy score given loudness score\n",
    "import matplotlib.pyplot as plt\n",
    "import seaborn as sns\n",
    "\n",
    "# regenerate predicted energy values for all loudness scores to match length with all actual energy values\n",
    "pred_y = model.predict(X)\n",
    "\n",
    "# create dataframe for plot\n",
    "plot_df = pd.DataFrame({\"Loudness\": X['loudness'],\n",
    "                        \"Actual Energy\": y,\n",
    "                        \"Predicted Energy\": pred_y})\n",
    "\n",
    "sns.set_palette('Greens_d')\n",
    "\n",
    "# Create scatter plot for observed data points\n",
    "ax = plot_df.plot(x='Loudness', y='Actual Energy', style='o', label='Observed Loudness Scores')\n",
    "\n",
    "# Create line plot for the fitted line\n",
    "plot_df.sort_values('Loudness', inplace=True)\n",
    "plot_df.plot(x='Loudness', y='Predicted Energy', kind='line', ax=ax, label='Regression Line')\n",
    "plt.ylim(-0.125, 1)\n",
    "plt.xlim(-30, 0)\n",
    "\n",
    "# Add titles and labels\n",
    "ax.set_title('Energy Score Plotted Against \\nLoudness Score')\n",
    "ax.set_xlabel('Loudness Score')\n",
    "ax.set_ylabel('Energy Score')"
   ]
  },
  {
   "cell_type": "markdown",
   "metadata": {},
   "source": [
    "The trendline indicates a positive correlation between percieved loudness and percieved energy. The datapoints appear to have high variance from the regression line, indicating a week correlation. It is inferrable that an increase in the song's percieved loudness creates an increase in the song's percieved energy among typical listeners. "
   ]
  },
  {
   "cell_type": "code",
   "execution_count": 50,
   "metadata": {},
   "outputs": [],
   "source": [
    "# get coefficient, intercept, and regression line equation for the loudness-energy model\n",
    "coef_loudness_energy = model.coef_[0]\n",
    "intercept_loudness_energy = model.intercept_\n",
    "regline_loudness_energy = f\"y = {round(model.coef_[0], 2)}x + {round(model.intercept_, 2)}\"\n",
    "\n",
    "# import metric functions from sklearn metrics library\n",
    "from sklearn.metrics import r2_score\n",
    "from sklearn.metrics import mean_squared_error\n",
    "from sklearn.metrics import mean_absolute_error\n",
    "\n",
    "# get standard metrics (for later comparative analysis)\n",
    "R2_loudness_energy = r2_score(y_test, y_pred) # R^2 coefficient\n",
    "mae_loudness_energy = mean_absolute_error(y_test, y_pred) # mean absolute error\n",
    "mse_loudness_energy = mean_squared_error(y_test, y_pred) # mean squared error"
   ]
  },
  {
   "cell_type": "markdown",
   "metadata": {},
   "source": [
    "### 7. Comparative Analysis On Performance Of The Prior Two Linear Models"
   ]
  },
  {
   "cell_type": "code",
   "execution_count": 51,
   "metadata": {},
   "outputs": [
    {
     "name": "stdout",
     "output_type": "stream",
     "text": [
      "DURATION-POPULARITY MODEL:\n",
      "\n",
      "Coefficient:                    -3.706610865570537\n",
      "Intercept:                      56.399705823265386\n",
      "Regression Line Equation:       y = -3.71x + 56.4\n",
      "\n",
      "LOUDNESS-ENERGY MODEL:\n",
      "\n",
      "Coefficient:                    0.0408194692017623\n",
      "Intercept:                      0.9728328812539959\n",
      "Regression Line Equation:       y = 0.04x + 0.97\n"
     ]
    }
   ],
   "source": [
    "# basic model aspects for the each model\n",
    "print(\"DURATION-POPULARITY MODEL:\\n\")\n",
    "print(f\"Coefficient:                    {coef_duration_popularity}\")\n",
    "print(f\"Intercept:                      {intercept_duration_popularity}\")\n",
    "print(f\"Regression Line Equation:       {regline_duration_popularity}\\n\")\n",
    "\n",
    "# basic model aspects for the duration-popularity model\n",
    "print(\"LOUDNESS-ENERGY MODEL:\\n\")\n",
    "print(f\"Coefficient:                    {coef_loudness_energy}\")\n",
    "print(f\"Intercept:                      {intercept_loudness_energy}\")\n",
    "print(f\"Regression Line Equation:       {regline_loudness_energy}\")"
   ]
  },
  {
   "cell_type": "code",
   "execution_count": 52,
   "metadata": {},
   "outputs": [
    {
     "name": "stdout",
     "output_type": "stream",
     "text": [
      "R2 Score for Duration-Popularity Model:     0.016437947445612888\n",
      "R2 Score for Loudness-Energy Model:         0.4625041495818246\n"
     ]
    }
   ],
   "source": [
    "# compare R^2 scores\n",
    "print(f\"R2 Score for Duration-Popularity Model:     {R2_duration_popularity}\")\n",
    "print(f\"R2 Score for Loudness-Energy Model:         {R2_loudness_energy}\")"
   ]
  },
  {
   "cell_type": "code",
   "execution_count": 53,
   "metadata": {},
   "outputs": [
    {
     "name": "stdout",
     "output_type": "stream",
     "text": [
      "Mean Absolute Error for Duration-Popularity Model:     20.512155857095998\n",
      "Mean Absolute Error for Loudness-Energy Model:         0.10575994521263009\n"
     ]
    }
   ],
   "source": [
    "# compare mean absolute error scores\n",
    "print(f\"Mean Absolute Error for Duration-Popularity Model:     {mae_duration_popularity}\")\n",
    "print(f\"Mean Absolute Error for Loudness-Energy Model:         {mae_loudness_energy}\")"
   ]
  },
  {
   "cell_type": "code",
   "execution_count": 55,
   "metadata": {},
   "outputs": [
    {
     "name": "stdout",
     "output_type": "stream",
     "text": [
      "Mean Squared Error for Duration-Popularity Model:     606.091898499038\n",
      "Mean Squared Error for Loudness-Energy Model:         0.017476244460881488\n"
     ]
    }
   ],
   "source": [
    "# compare mean squared error scores\n",
    "print(f\"Mean Squared Error for Duration-Popularity Model:     {mse_duration_popularity}\")\n",
    "print(f\"Mean Squared Error for Loudness-Energy Model:         {mse_loudness_energy}\")"
   ]
  },
  {
   "cell_type": "markdown",
   "metadata": {},
   "source": [
    "#### Conclusions:\n",
    "\n",
    "* There is a noticable relationship between a song's percieved loudness and its percieved energy; there is no such significant relationship between a song's duration length and its popularity\n",
    "* The Loudness-Energy model accounts for approximately 46.3% of variability in the dataset, whereas the Duration-Popularity model accounts for only 1.64% of variability\n",
    "* The Duration-Popularity model has noticably higher error scores than does the Loudness-Energy model"
   ]
  }
 ],
 "metadata": {
  "kernelspec": {
   "display_name": "base",
   "language": "python",
   "name": "python3"
  },
  "language_info": {
   "codemirror_mode": {
    "name": "ipython",
    "version": 3
   },
   "file_extension": ".py",
   "mimetype": "text/x-python",
   "name": "python",
   "nbconvert_exporter": "python",
   "pygments_lexer": "ipython3",
   "version": "3.12.4"
  }
 },
 "nbformat": 4,
 "nbformat_minor": 2
}
