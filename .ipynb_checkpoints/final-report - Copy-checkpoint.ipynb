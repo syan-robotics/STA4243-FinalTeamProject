{
 "cells": [
  {
   "cell_type": "markdown",
   "metadata": {},
   "source": [
    "# YOUR PYTHON 2020 WRAPPED\n",
    "### Spotify Data Analysis\n",
    "\n",
    "Contributors:\n",
    "* Robert Hall\n",
    "* Ryan Berberek\n",
    "* Ximena Cid Sanabria\n",
    "* Max Moran"
   ]
  },
  {
   "cell_type": "markdown",
   "metadata": {},
   "source": [
    "### Table of Contents:\n",
    "\n",
    "1. Data Importation & Exploratory Data Analysis\n",
    "2. Who Are The Top 5 Artists Represented In The Dataset?\n",
    "3. What Genre Categories Are Represented? What Is The Proportional Distribution Of Genres?\n",
    "4. Visualizing Each Variable's Correlation With The Others Using A Correlation Matrix\n",
    "5. Linear Model To Analyze The Correlation Between Song Duration (`song_duration`) And Popularity Score (`track_score`)\n",
    "6. Linear Model To Analyze The Correlation Between Perceived Song Energy (`energy`) And Percieved Song Loudness (`loudness`)\n",
    "7. Comparative Analysis On Performance Of The Prior Two Linear Models"
   ]
  },
  {
   "cell_type": "markdown",
   "metadata": {},
   "source": [
    "### Introduction\n",
    "\n",
    "For this project, we focused on a 2020 Spotify dataset and the effects it had on holistic observations for over 32k tracks. This can help us better understand exactly why a song performs well in certain areas. After cleaning and a general overview of the data, we looked at correlation, proportions, and created linear models to analyze variables of interest. We plan to use pie charts, correlation matrices, and scikit-learn regression models to address the problem. Our analysis will serve users in helping accurately identify why a track performs or feels the way it does."
   ]
  },
  {
   "cell_type": "markdown",
   "metadata": {},
   "source": [
    "### Data Preparation\n",
    "#### Original Source:\n",
    "[Tidy Tuesday's challenge](https://github.com/rfordatascience/tidytuesday/tree/main/data/2020/2020-01-21) for the week of January 21st, 2020. \n",
    "\n",
    "This dataset was originally scraped from Spotify's Web API using spotifyr package in r to simplify the learning process for newer coders in data science. By removing the barrier to entry in dataset creation, the weekly social challenge allows more people to participate in new, exciting data.  \n",
    "While tidytuesday recommends using their datasets not to draw conclusions about causation and simply practice coding, our classroom environment is given more time than the quick visualizations usually featured in the event, meaning we have more time and reason to think about conclusions.\n",
    "Upon cleaning, after removing duplicates in track_id (as some songs feature in many official spotify playlists), we found very few missing values, only a handful in columns such as album_name and artist_name. "
   ]
  },
  {
   "cell_type": "markdown",
   "metadata": {},
   "source": [
    "### 1. Data Importation & Exploratory Data Analysis"
   ]
  },
  {
   "cell_type": "code",
   "execution_count": 6,
   "metadata": {},
   "outputs": [],
   "source": [
    "# import libraries and set up dataframe\n",
    "import pandas as pd\n",
    "import seaborn as sns\n",
    "import matplotlib.pyplot as plt\n",
    "# pandas allows for use of data frames to better organize and analyze the dataset\n",
    "# matplotlib and seaborn allow for comprehensive data visualization\n",
    "spotify = pd.read_csv('spotify_songs.csv')"
   ]
  },
  {
   "cell_type": "code",
   "execution_count": 7,
   "metadata": {},
   "outputs": [
    {
     "data": {
      "text/plain": [
       "(28356, 23)"
      ]
     },
     "execution_count": 7,
     "metadata": {},
     "output_type": "execute_result"
    }
   ],
   "source": [
    "spotify = spotify.drop_duplicates(subset=['track_id']) #drop duplicated songs\n",
    "spotify.shape"
   ]
  },
  {
   "cell_type": "code",
   "execution_count": 8,
   "metadata": {},
   "outputs": [
    {
     "data": {
      "text/plain": [
       "track_id                    0\n",
       "track_name                  4\n",
       "track_artist                4\n",
       "track_popularity            0\n",
       "track_album_id              0\n",
       "track_album_name            4\n",
       "track_album_release_date    0\n",
       "playlist_name               0\n",
       "playlist_id                 0\n",
       "playlist_genre              0\n",
       "playlist_subgenre           0\n",
       "danceability                0\n",
       "energy                      0\n",
       "key                         0\n",
       "loudness                    0\n",
       "mode                        0\n",
       "speechiness                 0\n",
       "acousticness                0\n",
       "instrumentalness            0\n",
       "liveness                    0\n",
       "valence                     0\n",
       "tempo                       0\n",
       "duration_ms                 0\n",
       "dtype: int64"
      ]
     },
     "execution_count": 8,
     "metadata": {},
     "output_type": "execute_result"
    }
   ],
   "source": [
    "spotify.isna().sum()  #Find missing values"
   ]
  },
  {
   "cell_type": "code",
   "execution_count": 9,
   "metadata": {},
   "outputs": [
    {
     "data": {
      "text/plain": [
       "(28352, 23)"
      ]
     },
     "execution_count": 9,
     "metadata": {},
     "output_type": "execute_result"
    }
   ],
   "source": [
    "spotify= spotify.dropna() #drop n/a values\n",
    "spotify.shape"
   ]
  },
  {
   "cell_type": "code",
   "execution_count": 10,
   "metadata": {},
   "outputs": [
    {
     "data": {
      "text/plain": [
       "track_id                     object\n",
       "track_name                   object\n",
       "track_artist                 object\n",
       "track_popularity              int64\n",
       "track_album_id               object\n",
       "track_album_name             object\n",
       "track_album_release_date     object\n",
       "playlist_name                object\n",
       "playlist_id                  object\n",
       "playlist_genre               object\n",
       "playlist_subgenre            object\n",
       "danceability                float64\n",
       "energy                      float64\n",
       "key                           int64\n",
       "loudness                    float64\n",
       "mode                          int64\n",
       "speechiness                 float64\n",
       "acousticness                float64\n",
       "instrumentalness            float64\n",
       "liveness                    float64\n",
       "valence                     float64\n",
       "tempo                       float64\n",
       "duration_ms                   int64\n",
       "dtype: object"
      ]
     },
     "execution_count": 10,
     "metadata": {},
     "output_type": "execute_result"
    }
   ],
   "source": [
    "# check what features are available, and the datatypes of each feature \n",
    "spotify.dtypes"
   ]
  },
  {
   "cell_type": "markdown",
   "metadata": {},
   "source": [
    "### 2. Who Are The Top 5 Artists Represented In The Dataset?"
   ]
  },
  {
   "cell_type": "code",
   "execution_count": 12,
   "metadata": {},
   "outputs": [
    {
     "data": {
      "text/plain": [
       "track_artist        0\n",
       "track_popularity    0\n",
       "dtype: int64"
      ]
     },
     "execution_count": 12,
     "metadata": {},
     "output_type": "execute_result"
    }
   ],
   "source": [
    "# dataframe containing only features track_artist, track_popularity\n",
    "artist_scores = spotify[['track_artist', 'track_popularity']]\n",
    "\n",
    "# check for null values\n",
    "artist_scores.isnull().sum()"
   ]
  },
  {
   "cell_type": "code",
   "execution_count": 13,
   "metadata": {},
   "outputs": [
    {
     "data": {
      "text/plain": [
       "track_artist        0\n",
       "track_popularity    0\n",
       "dtype: int64"
      ]
     },
     "execution_count": 13,
     "metadata": {},
     "output_type": "execute_result"
    }
   ],
   "source": [
    "# drop instances where track_artist is null\n",
    "artist_scores = artist_scores.dropna(subset=['track_artist'])\n",
    "\n",
    "# check once again for null values\n",
    "artist_scores.isnull().sum()"
   ]
  },
  {
   "cell_type": "code",
   "execution_count": 14,
   "metadata": {},
   "outputs": [
    {
     "data": {
      "text/html": [
       "<div>\n",
       "<style scoped>\n",
       "    .dataframe tbody tr th:only-of-type {\n",
       "        vertical-align: middle;\n",
       "    }\n",
       "\n",
       "    .dataframe tbody tr th {\n",
       "        vertical-align: top;\n",
       "    }\n",
       "\n",
       "    .dataframe thead th {\n",
       "        text-align: right;\n",
       "    }\n",
       "</style>\n",
       "<table border=\"1\" class=\"dataframe\">\n",
       "  <thead>\n",
       "    <tr style=\"text-align: right;\">\n",
       "      <th></th>\n",
       "      <th>Artist</th>\n",
       "      <th>Average Popularity Score</th>\n",
       "    </tr>\n",
       "  </thead>\n",
       "  <tbody>\n",
       "    <tr>\n",
       "      <th>9735</th>\n",
       "      <td>Trevor Daniel</td>\n",
       "      <td>97.00</td>\n",
       "    </tr>\n",
       "    <tr>\n",
       "      <th>10242</th>\n",
       "      <td>Y2K</td>\n",
       "      <td>91.00</td>\n",
       "    </tr>\n",
       "    <tr>\n",
       "      <th>2601</th>\n",
       "      <td>Don Toliver</td>\n",
       "      <td>87.50</td>\n",
       "    </tr>\n",
       "    <tr>\n",
       "      <th>5040</th>\n",
       "      <td>Kina</td>\n",
       "      <td>85.50</td>\n",
       "    </tr>\n",
       "    <tr>\n",
       "      <th>4196</th>\n",
       "      <td>JACKBOYS</td>\n",
       "      <td>84.33</td>\n",
       "    </tr>\n",
       "  </tbody>\n",
       "</table>\n",
       "</div>"
      ],
      "text/plain": [
       "              Artist  Average Popularity Score\n",
       "9735   Trevor Daniel                     97.00\n",
       "10242            Y2K                     91.00\n",
       "2601     Don Toliver                     87.50\n",
       "5040            Kina                     85.50\n",
       "4196        JACKBOYS                     84.33"
      ]
     },
     "execution_count": 14,
     "metadata": {},
     "output_type": "execute_result"
    }
   ],
   "source": [
    "# generate the dataframe of average artist scores, in descending order\n",
    "highest_scores = artist_scores.groupby('track_artist')['track_popularity'].mean().reset_index()\n",
    "\n",
    "# sort highest scores in descending order\n",
    "highest_scores = highest_scores.sort_values(by='track_popularity', ascending=False)\n",
    "\n",
    "# get the top 5 scores\n",
    "highest_scores  = highest_scores[0:5]\n",
    "\n",
    "# round track_popularity to 2 decimal places\n",
    "highest_scores['track_popularity'] = round(highest_scores['track_popularity'], 2)\n",
    "\n",
    "# rename columns to more apt titles\n",
    "highest_scores.rename(columns={'track_artist': 'Artist',\n",
    "                               'track_popularity': 'Average Popularity Score'})"
   ]
  },
  {
   "cell_type": "code",
   "execution_count": 15,
   "metadata": {},
   "outputs": [],
   "source": [
    "#Visualization: Group by Artist and calculate the average track_popularity score\n",
    "top_artists = (spotify.groupby(\"track_artist\")[\"track_popularity\"].mean().sort_values(ascending=False).reset_index()) "
   ]
  },
  {
   "cell_type": "code",
   "execution_count": 16,
   "metadata": {},
   "outputs": [
    {
     "data": {
      "text/html": [
       "<div>\n",
       "<style scoped>\n",
       "    .dataframe tbody tr th:only-of-type {\n",
       "        vertical-align: middle;\n",
       "    }\n",
       "\n",
       "    .dataframe tbody tr th {\n",
       "        vertical-align: top;\n",
       "    }\n",
       "\n",
       "    .dataframe thead th {\n",
       "        text-align: right;\n",
       "    }\n",
       "</style>\n",
       "<table border=\"1\" class=\"dataframe\">\n",
       "  <thead>\n",
       "    <tr style=\"text-align: right;\">\n",
       "      <th></th>\n",
       "      <th>track_artist</th>\n",
       "      <th>average_popularity</th>\n",
       "    </tr>\n",
       "  </thead>\n",
       "  <tbody>\n",
       "    <tr>\n",
       "      <th>0</th>\n",
       "      <td>Trevor Daniel</td>\n",
       "      <td>97.000000</td>\n",
       "    </tr>\n",
       "    <tr>\n",
       "      <th>1</th>\n",
       "      <td>Y2K</td>\n",
       "      <td>91.000000</td>\n",
       "    </tr>\n",
       "    <tr>\n",
       "      <th>2</th>\n",
       "      <td>Don Toliver</td>\n",
       "      <td>87.500000</td>\n",
       "    </tr>\n",
       "    <tr>\n",
       "      <th>3</th>\n",
       "      <td>Kina</td>\n",
       "      <td>85.500000</td>\n",
       "    </tr>\n",
       "    <tr>\n",
       "      <th>4</th>\n",
       "      <td>JACKBOYS</td>\n",
       "      <td>84.333333</td>\n",
       "    </tr>\n",
       "  </tbody>\n",
       "</table>\n",
       "</div>"
      ],
      "text/plain": [
       "    track_artist  average_popularity\n",
       "0  Trevor Daniel           97.000000\n",
       "1            Y2K           91.000000\n",
       "2    Don Toliver           87.500000\n",
       "3           Kina           85.500000\n",
       "4       JACKBOYS           84.333333"
      ]
     },
     "execution_count": 16,
     "metadata": {},
     "output_type": "execute_result"
    }
   ],
   "source": [
    "top_artists = top_artists.rename(columns={\"track_popularity\": \"average_popularity\"}) # Rename column\n",
    "top_artists.head(5) # Save top 5"
   ]
  },
  {
   "cell_type": "code",
   "execution_count": 17,
   "metadata": {},
   "outputs": [
    {
     "ename": "KeyboardInterrupt",
     "evalue": "",
     "output_type": "error",
     "traceback": [
      "\u001b[1;31m---------------------------------------------------------------------------\u001b[0m",
      "\u001b[1;31mKeyboardInterrupt\u001b[0m                         Traceback (most recent call last)",
      "Cell \u001b[1;32mIn[17], line 4\u001b[0m\n\u001b[0;32m      2\u001b[0m \u001b[38;5;28;01mimport\u001b[39;00m \u001b[38;5;21;01mwarnings\u001b[39;00m\n\u001b[0;32m      3\u001b[0m warnings\u001b[38;5;241m.\u001b[39mfilterwarnings(\u001b[38;5;124m\"\u001b[39m\u001b[38;5;124mignore\u001b[39m\u001b[38;5;124m\"\u001b[39m)\n\u001b[1;32m----> 4\u001b[0m \u001b[43msns\u001b[49m\u001b[38;5;241;43m.\u001b[39;49m\u001b[43mbarplot\u001b[49m\u001b[43m(\u001b[49m\u001b[43mdata\u001b[49m\u001b[38;5;241;43m=\u001b[39;49m\u001b[43mtop_artists\u001b[49m\u001b[43m,\u001b[49m\u001b[43m \u001b[49m\u001b[43my\u001b[49m\u001b[38;5;241;43m=\u001b[39;49m\u001b[43mtop_artists\u001b[49m\u001b[43m[\u001b[49m\u001b[38;5;124;43m'\u001b[39;49m\u001b[38;5;124;43maverage_popularity\u001b[39;49m\u001b[38;5;124;43m'\u001b[39;49m\u001b[43m]\u001b[49m\u001b[43m,\u001b[49m\u001b[43m \u001b[49m\u001b[43mx\u001b[49m\u001b[38;5;241;43m=\u001b[39;49m\u001b[43mtop_artists\u001b[49m\u001b[43m[\u001b[49m\u001b[38;5;124;43m'\u001b[39;49m\u001b[38;5;124;43mtrack_artist\u001b[39;49m\u001b[38;5;124;43m'\u001b[39;49m\u001b[43m]\u001b[49m\u001b[43m,\u001b[49m\u001b[43m \u001b[49m\u001b[43mpalette\u001b[49m\u001b[38;5;241;43m=\u001b[39;49m\u001b[38;5;124;43m'\u001b[39;49m\u001b[38;5;124;43mGreens_d\u001b[39;49m\u001b[38;5;124;43m'\u001b[39;49m\u001b[43m,\u001b[49m\u001b[43m \u001b[49m\u001b[43mlegend\u001b[49m\u001b[38;5;241;43m=\u001b[39;49m\u001b[38;5;28;43;01mFalse\u001b[39;49;00m\u001b[43m)\u001b[49m\n\u001b[0;32m      5\u001b[0m plt\u001b[38;5;241m.\u001b[39mtitle(\u001b[38;5;124m'\u001b[39m\u001b[38;5;124mTop Artists by Average Popularity\u001b[39m\u001b[38;5;124m'\u001b[39m, fontsize\u001b[38;5;241m=\u001b[39m\u001b[38;5;241m14\u001b[39m)\n\u001b[0;32m      6\u001b[0m plt\u001b[38;5;241m.\u001b[39mxlabel(\u001b[38;5;124m'\u001b[39m\u001b[38;5;124mArtist\u001b[39m\u001b[38;5;124m'\u001b[39m, fontsize\u001b[38;5;241m=\u001b[39m\u001b[38;5;241m12\u001b[39m)\n",
      "File \u001b[1;32m~\\anaconda3\\Lib\\site-packages\\seaborn\\categorical.py:2380\u001b[0m, in \u001b[0;36mbarplot\u001b[1;34m(data, x, y, hue, order, hue_order, estimator, errorbar, n_boot, seed, units, weights, orient, color, palette, saturation, fill, hue_norm, width, dodge, gap, log_scale, native_scale, formatter, legend, capsize, err_kws, ci, errcolor, errwidth, ax, **kwargs)\u001b[0m\n\u001b[0;32m   2377\u001b[0m \u001b[38;5;66;03m# Deprecations to remove in v0.15.0.\u001b[39;00m\n\u001b[0;32m   2378\u001b[0m err_kws, capsize \u001b[38;5;241m=\u001b[39m p\u001b[38;5;241m.\u001b[39m_err_kws_backcompat(err_kws, errcolor, errwidth, capsize)\n\u001b[1;32m-> 2380\u001b[0m \u001b[43mp\u001b[49m\u001b[38;5;241;43m.\u001b[39;49m\u001b[43mplot_bars\u001b[49m\u001b[43m(\u001b[49m\n\u001b[0;32m   2381\u001b[0m \u001b[43m    \u001b[49m\u001b[43maggregator\u001b[49m\u001b[38;5;241;43m=\u001b[39;49m\u001b[43maggregator\u001b[49m\u001b[43m,\u001b[49m\n\u001b[0;32m   2382\u001b[0m \u001b[43m    \u001b[49m\u001b[43mdodge\u001b[49m\u001b[38;5;241;43m=\u001b[39;49m\u001b[43mdodge\u001b[49m\u001b[43m,\u001b[49m\n\u001b[0;32m   2383\u001b[0m \u001b[43m    \u001b[49m\u001b[43mwidth\u001b[49m\u001b[38;5;241;43m=\u001b[39;49m\u001b[43mwidth\u001b[49m\u001b[43m,\u001b[49m\n\u001b[0;32m   2384\u001b[0m \u001b[43m    \u001b[49m\u001b[43mgap\u001b[49m\u001b[38;5;241;43m=\u001b[39;49m\u001b[43mgap\u001b[49m\u001b[43m,\u001b[49m\n\u001b[0;32m   2385\u001b[0m \u001b[43m    \u001b[49m\u001b[43mcolor\u001b[49m\u001b[38;5;241;43m=\u001b[39;49m\u001b[43mcolor\u001b[49m\u001b[43m,\u001b[49m\n\u001b[0;32m   2386\u001b[0m \u001b[43m    \u001b[49m\u001b[43mfill\u001b[49m\u001b[38;5;241;43m=\u001b[39;49m\u001b[43mfill\u001b[49m\u001b[43m,\u001b[49m\n\u001b[0;32m   2387\u001b[0m \u001b[43m    \u001b[49m\u001b[43mcapsize\u001b[49m\u001b[38;5;241;43m=\u001b[39;49m\u001b[43mcapsize\u001b[49m\u001b[43m,\u001b[49m\n\u001b[0;32m   2388\u001b[0m \u001b[43m    \u001b[49m\u001b[43merr_kws\u001b[49m\u001b[38;5;241;43m=\u001b[39;49m\u001b[43merr_kws\u001b[49m\u001b[43m,\u001b[49m\n\u001b[0;32m   2389\u001b[0m \u001b[43m    \u001b[49m\u001b[43mplot_kws\u001b[49m\u001b[38;5;241;43m=\u001b[39;49m\u001b[43mkwargs\u001b[49m\u001b[43m,\u001b[49m\n\u001b[0;32m   2390\u001b[0m \u001b[43m\u001b[49m\u001b[43m)\u001b[49m\n\u001b[0;32m   2392\u001b[0m p\u001b[38;5;241m.\u001b[39m_add_axis_labels(ax)\n\u001b[0;32m   2393\u001b[0m p\u001b[38;5;241m.\u001b[39m_adjust_cat_axis(ax, axis\u001b[38;5;241m=\u001b[39mp\u001b[38;5;241m.\u001b[39morient)\n",
      "File \u001b[1;32m~\\anaconda3\\Lib\\site-packages\\seaborn\\categorical.py:1293\u001b[0m, in \u001b[0;36m_CategoricalPlotter.plot_bars\u001b[1;34m(self, aggregator, dodge, gap, width, fill, color, capsize, err_kws, plot_kws)\u001b[0m\n\u001b[0;32m   1290\u001b[0m     agg_data[\u001b[38;5;124m\"\u001b[39m\u001b[38;5;124mwidth\u001b[39m\u001b[38;5;124m\"\u001b[39m] \u001b[38;5;241m*\u001b[39m\u001b[38;5;241m=\u001b[39m \u001b[38;5;241m1\u001b[39m \u001b[38;5;241m-\u001b[39m gap\n\u001b[0;32m   1292\u001b[0m agg_data[\u001b[38;5;124m\"\u001b[39m\u001b[38;5;124medge\u001b[39m\u001b[38;5;124m\"\u001b[39m] \u001b[38;5;241m=\u001b[39m agg_data[\u001b[38;5;28mself\u001b[39m\u001b[38;5;241m.\u001b[39morient] \u001b[38;5;241m-\u001b[39m agg_data[\u001b[38;5;124m\"\u001b[39m\u001b[38;5;124mwidth\u001b[39m\u001b[38;5;124m\"\u001b[39m] \u001b[38;5;241m/\u001b[39m \u001b[38;5;241m2\u001b[39m\n\u001b[1;32m-> 1293\u001b[0m \u001b[38;5;28;43mself\u001b[39;49m\u001b[38;5;241;43m.\u001b[39;49m\u001b[43m_invert_scale\u001b[49m\u001b[43m(\u001b[49m\u001b[43max\u001b[49m\u001b[43m,\u001b[49m\u001b[43m \u001b[49m\u001b[43magg_data\u001b[49m\u001b[43m)\u001b[49m\n\u001b[0;32m   1295\u001b[0m \u001b[38;5;28;01mif\u001b[39;00m \u001b[38;5;28mself\u001b[39m\u001b[38;5;241m.\u001b[39morient \u001b[38;5;241m==\u001b[39m \u001b[38;5;124m\"\u001b[39m\u001b[38;5;124mx\u001b[39m\u001b[38;5;124m\"\u001b[39m:\n\u001b[0;32m   1296\u001b[0m     bar_func \u001b[38;5;241m=\u001b[39m ax\u001b[38;5;241m.\u001b[39mbar\n",
      "File \u001b[1;32m~\\anaconda3\\Lib\\site-packages\\seaborn\\categorical.py:416\u001b[0m, in \u001b[0;36m_CategoricalPlotter._invert_scale\u001b[1;34m(self, ax, data, vars)\u001b[0m\n\u001b[0;32m    414\u001b[0m     hw \u001b[38;5;241m=\u001b[39m data[\u001b[38;5;124m\"\u001b[39m\u001b[38;5;124mwidth\u001b[39m\u001b[38;5;124m\"\u001b[39m] \u001b[38;5;241m/\u001b[39m \u001b[38;5;241m2\u001b[39m\n\u001b[0;32m    415\u001b[0m     data[\u001b[38;5;124m\"\u001b[39m\u001b[38;5;124medge\u001b[39m\u001b[38;5;124m\"\u001b[39m] \u001b[38;5;241m=\u001b[39m inv(data[var] \u001b[38;5;241m-\u001b[39m hw)\n\u001b[1;32m--> 416\u001b[0m     \u001b[43mdata\u001b[49m\u001b[43m[\u001b[49m\u001b[38;5;124;43m\"\u001b[39;49m\u001b[38;5;124;43mwidth\u001b[39;49m\u001b[38;5;124;43m\"\u001b[39;49m\u001b[43m]\u001b[49m \u001b[38;5;241m=\u001b[39m inv(data[var] \u001b[38;5;241m+\u001b[39m hw) \u001b[38;5;241m-\u001b[39m data[\u001b[38;5;124m\"\u001b[39m\u001b[38;5;124medge\u001b[39m\u001b[38;5;124m\"\u001b[39m]\u001b[38;5;241m.\u001b[39mto_numpy()\n\u001b[0;32m    417\u001b[0m \u001b[38;5;28;01mfor\u001b[39;00m suf \u001b[38;5;129;01min\u001b[39;00m [\u001b[38;5;124m\"\u001b[39m\u001b[38;5;124m\"\u001b[39m, \u001b[38;5;124m\"\u001b[39m\u001b[38;5;124mmin\u001b[39m\u001b[38;5;124m\"\u001b[39m, \u001b[38;5;124m\"\u001b[39m\u001b[38;5;124mmax\u001b[39m\u001b[38;5;124m\"\u001b[39m]:\n\u001b[0;32m    418\u001b[0m     \u001b[38;5;28;01mif\u001b[39;00m (col \u001b[38;5;241m:=\u001b[39m \u001b[38;5;124mf\u001b[39m\u001b[38;5;124m\"\u001b[39m\u001b[38;5;132;01m{\u001b[39;00mvar\u001b[38;5;132;01m}\u001b[39;00m\u001b[38;5;132;01m{\u001b[39;00msuf\u001b[38;5;132;01m}\u001b[39;00m\u001b[38;5;124m\"\u001b[39m) \u001b[38;5;129;01min\u001b[39;00m data:\n",
      "File \u001b[1;32m~\\AppData\\Roaming\\Python\\Python312\\site-packages\\pandas\\core\\frame.py:4311\u001b[0m, in \u001b[0;36mDataFrame.__setitem__\u001b[1;34m(self, key, value)\u001b[0m\n\u001b[0;32m   4308\u001b[0m     \u001b[38;5;28mself\u001b[39m\u001b[38;5;241m.\u001b[39m_setitem_array([key], value)\n\u001b[0;32m   4309\u001b[0m \u001b[38;5;28;01melse\u001b[39;00m:\n\u001b[0;32m   4310\u001b[0m     \u001b[38;5;66;03m# set column\u001b[39;00m\n\u001b[1;32m-> 4311\u001b[0m     \u001b[38;5;28;43mself\u001b[39;49m\u001b[38;5;241;43m.\u001b[39;49m\u001b[43m_set_item\u001b[49m\u001b[43m(\u001b[49m\u001b[43mkey\u001b[49m\u001b[43m,\u001b[49m\u001b[43m \u001b[49m\u001b[43mvalue\u001b[49m\u001b[43m)\u001b[49m\n",
      "File \u001b[1;32m~\\AppData\\Roaming\\Python\\Python312\\site-packages\\pandas\\core\\frame.py:4524\u001b[0m, in \u001b[0;36mDataFrame._set_item\u001b[1;34m(self, key, value)\u001b[0m\n\u001b[0;32m   4514\u001b[0m \u001b[38;5;28;01mdef\u001b[39;00m \u001b[38;5;21m_set_item\u001b[39m(\u001b[38;5;28mself\u001b[39m, key, value) \u001b[38;5;241m-\u001b[39m\u001b[38;5;241m>\u001b[39m \u001b[38;5;28;01mNone\u001b[39;00m:\n\u001b[0;32m   4515\u001b[0m \u001b[38;5;250m    \u001b[39m\u001b[38;5;124;03m\"\"\"\u001b[39;00m\n\u001b[0;32m   4516\u001b[0m \u001b[38;5;124;03m    Add series to DataFrame in specified column.\u001b[39;00m\n\u001b[0;32m   4517\u001b[0m \n\u001b[1;32m   (...)\u001b[0m\n\u001b[0;32m   4522\u001b[0m \u001b[38;5;124;03m    ensure homogeneity.\u001b[39;00m\n\u001b[0;32m   4523\u001b[0m \u001b[38;5;124;03m    \"\"\"\u001b[39;00m\n\u001b[1;32m-> 4524\u001b[0m     value, refs \u001b[38;5;241m=\u001b[39m \u001b[38;5;28;43mself\u001b[39;49m\u001b[38;5;241;43m.\u001b[39;49m\u001b[43m_sanitize_column\u001b[49m\u001b[43m(\u001b[49m\u001b[43mvalue\u001b[49m\u001b[43m)\u001b[49m\n\u001b[0;32m   4526\u001b[0m     \u001b[38;5;28;01mif\u001b[39;00m (\n\u001b[0;32m   4527\u001b[0m         key \u001b[38;5;129;01min\u001b[39;00m \u001b[38;5;28mself\u001b[39m\u001b[38;5;241m.\u001b[39mcolumns\n\u001b[0;32m   4528\u001b[0m         \u001b[38;5;129;01mand\u001b[39;00m value\u001b[38;5;241m.\u001b[39mndim \u001b[38;5;241m==\u001b[39m \u001b[38;5;241m1\u001b[39m\n\u001b[0;32m   4529\u001b[0m         \u001b[38;5;129;01mand\u001b[39;00m \u001b[38;5;129;01mnot\u001b[39;00m \u001b[38;5;28misinstance\u001b[39m(value\u001b[38;5;241m.\u001b[39mdtype, ExtensionDtype)\n\u001b[0;32m   4530\u001b[0m     ):\n\u001b[0;32m   4531\u001b[0m         \u001b[38;5;66;03m# broadcast across multiple columns if necessary\u001b[39;00m\n\u001b[0;32m   4532\u001b[0m         \u001b[38;5;28;01mif\u001b[39;00m \u001b[38;5;129;01mnot\u001b[39;00m \u001b[38;5;28mself\u001b[39m\u001b[38;5;241m.\u001b[39mcolumns\u001b[38;5;241m.\u001b[39mis_unique \u001b[38;5;129;01mor\u001b[39;00m \u001b[38;5;28misinstance\u001b[39m(\u001b[38;5;28mself\u001b[39m\u001b[38;5;241m.\u001b[39mcolumns, MultiIndex):\n",
      "File \u001b[1;32m~\\AppData\\Roaming\\Python\\Python312\\site-packages\\pandas\\core\\frame.py:5267\u001b[0m, in \u001b[0;36mDataFrame._sanitize_column\u001b[1;34m(self, value)\u001b[0m\n\u001b[0;32m   5265\u001b[0m \u001b[38;5;28;01mif\u001b[39;00m is_list_like(value):\n\u001b[0;32m   5266\u001b[0m     com\u001b[38;5;241m.\u001b[39mrequire_length_match(value, \u001b[38;5;28mself\u001b[39m\u001b[38;5;241m.\u001b[39mindex)\n\u001b[1;32m-> 5267\u001b[0m arr \u001b[38;5;241m=\u001b[39m \u001b[43msanitize_array\u001b[49m\u001b[43m(\u001b[49m\u001b[43mvalue\u001b[49m\u001b[43m,\u001b[49m\u001b[43m \u001b[49m\u001b[38;5;28;43mself\u001b[39;49m\u001b[38;5;241;43m.\u001b[39;49m\u001b[43mindex\u001b[49m\u001b[43m,\u001b[49m\u001b[43m \u001b[49m\u001b[43mcopy\u001b[49m\u001b[38;5;241;43m=\u001b[39;49m\u001b[38;5;28;43;01mTrue\u001b[39;49;00m\u001b[43m,\u001b[49m\u001b[43m \u001b[49m\u001b[43mallow_2d\u001b[49m\u001b[38;5;241;43m=\u001b[39;49m\u001b[38;5;28;43;01mTrue\u001b[39;49;00m\u001b[43m)\u001b[49m\n\u001b[0;32m   5268\u001b[0m \u001b[38;5;28;01mif\u001b[39;00m (\n\u001b[0;32m   5269\u001b[0m     \u001b[38;5;28misinstance\u001b[39m(value, Index)\n\u001b[0;32m   5270\u001b[0m     \u001b[38;5;129;01mand\u001b[39;00m value\u001b[38;5;241m.\u001b[39mdtype \u001b[38;5;241m==\u001b[39m \u001b[38;5;124m\"\u001b[39m\u001b[38;5;124mobject\u001b[39m\u001b[38;5;124m\"\u001b[39m\n\u001b[1;32m   (...)\u001b[0m\n\u001b[0;32m   5273\u001b[0m     \u001b[38;5;66;03m# TODO: Remove kludge in sanitize_array for string mode when enforcing\u001b[39;00m\n\u001b[0;32m   5274\u001b[0m     \u001b[38;5;66;03m# this deprecation\u001b[39;00m\n\u001b[0;32m   5275\u001b[0m     warnings\u001b[38;5;241m.\u001b[39mwarn(\n\u001b[0;32m   5276\u001b[0m         \u001b[38;5;124m\"\u001b[39m\u001b[38;5;124mSetting an Index with object dtype into a DataFrame will stop \u001b[39m\u001b[38;5;124m\"\u001b[39m\n\u001b[0;32m   5277\u001b[0m         \u001b[38;5;124m\"\u001b[39m\u001b[38;5;124minferring another dtype in a future version. Cast the Index \u001b[39m\u001b[38;5;124m\"\u001b[39m\n\u001b[1;32m   (...)\u001b[0m\n\u001b[0;32m   5280\u001b[0m         stacklevel\u001b[38;5;241m=\u001b[39mfind_stack_level(),\n\u001b[0;32m   5281\u001b[0m     )\n",
      "File \u001b[1;32m~\\AppData\\Roaming\\Python\\Python312\\site-packages\\pandas\\core\\construction.py:621\u001b[0m, in \u001b[0;36msanitize_array\u001b[1;34m(data, index, dtype, copy, allow_2d)\u001b[0m\n\u001b[0;32m    618\u001b[0m         subarr \u001b[38;5;241m=\u001b[39m dtype\u001b[38;5;241m.\u001b[39mconstruct_array_type()\u001b[38;5;241m.\u001b[39m_from_sequence(data, dtype\u001b[38;5;241m=\u001b[39mdtype)\n\u001b[0;32m    620\u001b[0m     \u001b[38;5;28;01mif\u001b[39;00m subarr \u001b[38;5;129;01mis\u001b[39;00m data \u001b[38;5;129;01mand\u001b[39;00m copy:\n\u001b[1;32m--> 621\u001b[0m         subarr \u001b[38;5;241m=\u001b[39m \u001b[43msubarr\u001b[49m\u001b[38;5;241;43m.\u001b[39;49m\u001b[43mcopy\u001b[49m\u001b[43m(\u001b[49m\u001b[43m)\u001b[49m\n\u001b[0;32m    623\u001b[0m \u001b[38;5;28;01melse\u001b[39;00m:\n\u001b[0;32m    624\u001b[0m     \u001b[38;5;66;03m# we will try to copy by-definition here\u001b[39;00m\n\u001b[0;32m    625\u001b[0m     subarr \u001b[38;5;241m=\u001b[39m _try_cast(data, dtype, copy)\n",
      "\u001b[1;31mKeyboardInterrupt\u001b[0m: "
     ]
    },
    {
     "data": {
      "image/png": "[encoded data removed]",
      "text/plain": [
       "<Figure size 640x480 with 1 Axes>"
      ]
     },
     "metadata": {},
     "output_type": "display_data"
    }
   ],
   "source": [
    "#plot\n",
    "import warnings\n",
    "warnings.filterwarnings(\"ignore\")\n",
    "sns.barplot(data=top_artists, y=top_artists['average_popularity'], x=top_artists['track_artist'], palette='Greens_d', legend=False)\n",
    "plt.title('Top Artists by Average Popularity', fontsize=14)\n",
    "plt.xlabel('Artist', fontsize=12)\n",
    "plt.ylabel('Average Popularity', fontsize=12)\n",
    "plt.ylim(80, 100)  # Change y-axis limits for better visualization\n",
    "plt.show()"
   ]
  },
  {
   "cell_type": "markdown",
   "metadata": {},
   "source": [
    "These artists have the highest average popularity scores across their tracks. This indicate that they dominated listener preferences in 2020, maintaining a high level of popularity across multiple tracks in the dataset. **Trevor Daniel** leads with the highest average popularity score of 97, making him the most popular artist of the database. **Y2K** and **Don Toliver** follow closely, with their average scores ~90. Finally, **Kina**, and **JACKBOYS** complete the list, with average scores ~84."
   ]
  },
  {
   "cell_type": "markdown",
   "metadata": {},
   "source": [
    "### 3. What Genre Categories Are Represented? What Is The Proportional Distribution Of Genres?"
   ]
  },
  {
   "cell_type": "code",
   "execution_count": null,
   "metadata": {},
   "outputs": [],
   "source": [
    "genre_counts = spotify['playlist_genre'].value_counts() #Counts hoy many times a genre is found in the database"
   ]
  },
  {
   "cell_type": "code",
   "execution_count": null,
   "metadata": {},
   "outputs": [],
   "source": [
    "colors = sns.color_palette(\"Greens\") #setting green palette\n",
    "\n",
    "#Plot\n",
    "plt.pie(genre_counts.values, colors=colors, autopct='%1.1f%%', wedgeprops={'edgecolor': 'black'}) # Autopct shows the percentages of each genre & Wedgeprops adds black edges for clarity\n",
    "\n",
    "#Add legend with genres\n",
    "plt.legend(labels=genre_counts.index, title=\"Genres\", fontsize=10, bbox_to_anchor=(1.2, .7)) #bbox_to_anchor gives the position of the legend box\n",
    "\n",
    "plt.title('Proportional Distribution of Spotify Genres (2020)', fontsize=14)\n",
    "plt.show()"
   ]
  },
  {
   "cell_type": "markdown",
   "metadata": {},
   "source": [
    "The chart reveals that **Rap, Pop, and EDM** are the most listen genres in Spotify, however no single genre strongly dominates. The difference between the top (**Rap**) and the lowest genre (**Latin**) is less than 5%. This genre diversity suggests that listeners in 2020 valued music variety and were open to exploring different styles."
   ]
  },
  {
   "cell_type": "code",
   "execution_count": null,
   "metadata": {},
   "outputs": [],
   "source": [
    "#Group by Genre and calculate the average track_popularity score\n",
    "top_genres = (spotify.groupby(\"playlist_genre\")[\"track_popularity\"].mean().sort_values(ascending=False).reset_index()) "
   ]
  },
  {
   "cell_type": "code",
   "execution_count": null,
   "metadata": {},
   "outputs": [],
   "source": [
    "# Rename column\n",
    "top_genres = top_genres.rename(columns={\"track_popularity\": \"average_popularity\"}) "
   ]
  },
  {
   "cell_type": "code",
   "execution_count": null,
   "metadata": {},
   "outputs": [],
   "source": [
    "#Plot\n",
    "bar=sns.barplot(x=top_genres['playlist_genre'], y=top_genres['average_popularity'], data=top_genres, palette='Greens_d')\n",
    "plt.title('Genres by Average Popularity', fontsize=14)\n",
    "plt.xlabel('Genre', fontsize=12)\n",
    "plt.ylabel('Average Popularity', fontsize=12)\n",
    "bar.bar_label(bar.containers[0], fmt='%.2f') #bar_label shows the popularity score of each genre\n",
    "plt.show()"
   ]
  },
  {
   "cell_type": "markdown",
   "metadata": {},
   "source": [
    "The **Pop** genre has the highest average popularity score (45.91), closely followed by **Rap** (41.82). These genres might resonate most with listeners in 2020. There is a noticeable gap between the top genres and the lowest-performing genre (**EDM**). The difference of about 15 points suggests a clear distinction in audience preference."
   ]
  },
  {
   "cell_type": "markdown",
   "metadata": {},
   "source": [
    "### 4. Visualizing Each Variable's Correlation With The Others Using A Correlation Matrix"
   ]
  },
  {
   "cell_type": "code",
   "execution_count": null,
   "metadata": {},
   "outputs": [],
   "source": [
    "# Create data subset specifically for correlation matrix\n",
    "spotify_corr_subset = spotify[spotify.columns[9:23]].assign(track_popularity=spotify['track_popularity'])\n",
    "spotify_corr_subset = spotify_corr_subset.drop('playlist_subgenre', axis=1)"
   ]
  },
  {
   "cell_type": "code",
   "execution_count": null,
   "metadata": {},
   "outputs": [],
   "source": [
    "# Perform one-hot encoding of genre for purposes of correlation matrix insights\n",
    "spotify_corr_subset = pd.get_dummies(spotify_corr_subset, columns=['playlist_genre'], prefix='genre')"
   ]
  },
  {
   "cell_type": "code",
   "execution_count": null,
   "metadata": {},
   "outputs": [],
   "source": [
    "# Generate larger sized plot containing seaborn heatmap (reversed color mapping)\n",
    "plt.figure(figsize=(10,6))\n",
    "plt.title('Track Qualities Corrleation Matrix', fontsize=20)\n",
    "sns.heatmap(spotify_corr_subset.corr().round(2), cmap = 'PiYG_r', annot=True)\n",
    "# plt.savefig('track_corr.png', bbox_inches='tight')\n",
    "plt.show()"
   ]
  },
  {
   "cell_type": "markdown",
   "metadata": {},
   "source": [
    "##### Although distinct correlations are harder to find in this dataset due to the more human factor of music taste in song popularity, our group did notice some important highlights:\n",
    "- loudness, instrumentalness, duration, and genre_edm have the most (negative) corrleation with song_popularity.\n",
    "- loudness and energy have a distinct positive correlation, a natural connection. We further explored this connection in our modeling.\n",
    "- acousticness and energy have a similarly distinct negative correlation, also easily understood.\n",
    "- genre_rap and speechiness have a somewhat hidden positive correlation, with genre_rock representing the opposite, negative correlation.\n",
    "- acousticness and loudness have a negative corrleation."
   ]
  },
  {
   "cell_type": "markdown",
   "metadata": {},
   "source": [
    "### 5. Linear Model To Analyze The Correlation Between Song Duration (`song_duration`) And Popularity Score (`track_score`)"
   ]
  },
  {
   "cell_type": "code",
   "execution_count": null,
   "metadata": {},
   "outputs": [],
   "source": [
    "# import necessary libraries - sklearn allows for simple training and implementation of linear regression models\n",
    "from sklearn.preprocessing import StandardScaler\n",
    "from sklearn.model_selection import train_test_split\n",
    "from sklearn.linear_model import LinearRegression\n",
    "\n",
    "# create new feature 'duration_min' out of 'duration_ms'\n",
    "spotify['duration_min'] = spotify['duration_ms'] / 60000\n",
    "\n",
    "# define input features and prediction variable\n",
    "X = spotify[['duration_min']]\n",
    "y = spotify['track_popularity']\n",
    "\n",
    "# split data into training and test data\n",
    "X_train, X_test, y_train, y_test = train_test_split(X, y, test_size=0.2, train_size=0.8)\n",
    "\n",
    "# build and fit model\n",
    "model_dur_pop = LinearRegression()\n",
    "model_dur_pop.fit(X_train, y_train)\n",
    "\n",
    "# get predicted values\n",
    "y_pred_dur_pop = model_dur_pop.predict(X_test)"
   ]
  },
  {
   "cell_type": "code",
   "execution_count": null,
   "metadata": {},
   "outputs": [],
   "source": [
    "# get predicted y-values for all x instead of only the test subset, to match the length when plotting against all \n",
    "pred_y_dur_pop = model_dur_pop.predict(X)\n",
    "\n",
    "# create dataframe for plot\n",
    "plot_df = pd.DataFrame({\"Duration (min)\": X['duration_min'],\n",
    "                        \"Actual Popularity\": y,\n",
    "                        \"Predicted Popularity\": pred_y_dur_pop})\n",
    "\n",
    "import seaborn as sns\n",
    "sns.set_palette('Greens_d')\n",
    "\n",
    "# Create scatter plot for observed data points\n",
    "ax = plot_df.plot(x='Duration (min)', y='Actual Popularity', style='o', label='Observed Values')\n",
    "\n",
    "# Create line plot for the fitted line\n",
    "plot_df.sort_values('Duration (min)', inplace=True)\n",
    "plot_df.plot(x='Duration (min)', y='Predicted Popularity', kind='line', ax=ax, label='Regression Line')\n",
    "#plt.ylim(-0.125, 1)\n",
    "#plt.xlim(-30, 0)\n",
    "\n",
    "# Add titles and labels\n",
    "ax.set_title('Track Popularity Plotted Against \\nSong Duration')\n",
    "ax.set_xlabel('Song Duration (min)')\n",
    "ax.set_ylabel('Track Popularity')"
   ]
  },
  {
   "cell_type": "markdown",
   "metadata": {},
   "source": [
    "The datapoints are scattered every which way from the line and show no convergence around a single trend. The regression line is negative and downsloping, but this does not offset the high variance in the dataset, which we can infer means the duration (time length) of a song holds little explaination for the song's popularity score. "
   ]
  },
  {
   "cell_type": "code",
   "execution_count": null,
   "metadata": {},
   "outputs": [],
   "source": [
    "# get coefficient, intercept, and regression line equation for the loudness-energy model\n",
    "coef_duration_popularity = model_dur_pop.coef_[0]\n",
    "intercept_duration_popularity = model_dur_pop.intercept_\n",
    "regline_duration_popularity = f\"y = {round(model_dur_pop.coef_[0], 2)}x + {round(model_dur_pop.intercept_, 2)}\"\n",
    "\n",
    "# import metric functions from sklearn metrics library\n",
    "from sklearn.metrics import r2_score\n",
    "from sklearn.metrics import mean_squared_error\n",
    "from sklearn.metrics import mean_absolute_error\n",
    "\n",
    "# get standard metrics (for later comparative analysis)\n",
    "R2_duration_popularity = r2_score(y_test, y_pred_dur_pop) # R^2 coefficient\n",
    "mae_duration_popularity = mean_absolute_error(y_test, y_pred_dur_pop) # mean absolute error\n",
    "mse_duration_popularity = mean_squared_error(y_test, y_pred_dur_pop) # mean squared error"
   ]
  },
  {
   "cell_type": "markdown",
   "metadata": {},
   "source": [
    "### 6. Linear Model To Analyze The Correlation Between Perceived Song Energy (`energy`) And Percieved Song Loudness (`loudness`)"
   ]
  },
  {
   "cell_type": "code",
   "execution_count": null,
   "metadata": {},
   "outputs": [],
   "source": [
    "# check the descriptive statistics of the features of interest\n",
    "spotify[['loudness', 'energy']].describe()"
   ]
  },
  {
   "cell_type": "code",
   "execution_count": null,
   "metadata": {},
   "outputs": [],
   "source": [
    "# import necessary libraries\n",
    "from sklearn.preprocessing import StandardScaler\n",
    "from sklearn.model_selection import train_test_split\n",
    "from sklearn.linear_model import LinearRegression\n",
    "\n",
    "# define input features and prediction variable\n",
    "X = spotify[['loudness']]\n",
    "y = spotify['energy']\n",
    "\n",
    "# split data into training and test data\n",
    "X_train, X_test, y_train, y_test = train_test_split(X, y, test_size=0.2, train_size=0.8)\n",
    "\n",
    "# build and fit model\n",
    "model = LinearRegression()\n",
    "model.fit(X_train, y_train)\n",
    "\n",
    "# get predicted values\n",
    "y_pred = model.predict(X_test)"
   ]
  },
  {
   "cell_type": "code",
   "execution_count": null,
   "metadata": {},
   "outputs": [],
   "source": [
    "# generate scatterplot with regression line for predicted energy score given loudness score\n",
    "import matplotlib.pyplot as plt\n",
    "import seaborn as sns\n",
    "\n",
    "# regenerate predicted energy values for all loudness scores to match length with all actual energy values\n",
    "pred_y = model.predict(X)\n",
    "\n",
    "# create dataframe for plot\n",
    "plot_df = pd.DataFrame({\"Loudness\": X['loudness'],\n",
    "                        \"Actual Energy\": y,\n",
    "                        \"Predicted Energy\": pred_y})\n",
    "\n",
    "sns.set_palette('Greens_d')\n",
    "\n",
    "# Create scatter plot for observed data points\n",
    "ax = plot_df.plot(x='Loudness', y='Actual Energy', style='o', label='Observed Loudness Scores')\n",
    "\n",
    "# Create line plot for the fitted line\n",
    "plot_df.sort_values('Loudness', inplace=True)\n",
    "plot_df.plot(x='Loudness', y='Predicted Energy', kind='line', ax=ax, label='Regression Line')\n",
    "plt.ylim(-0.125, 1)\n",
    "plt.xlim(-30, 0)\n",
    "\n",
    "# Add titles and labels\n",
    "ax.set_title('Energy Score Plotted Against \\nLoudness Score')\n",
    "ax.set_xlabel('Loudness Score')\n",
    "ax.set_ylabel('Energy Score')"
   ]
  },
  {
   "cell_type": "markdown",
   "metadata": {},
   "source": [
    "The trendline indicates a positive correlation between percieved loudness and percieved energy. The datapoints appear to have high variance from the regression line, indicating a week correlation. It is inferrable that an increase in the song's percieved loudness creates an increase in the song's percieved energy among typical listeners. "
   ]
  },
  {
   "cell_type": "code",
   "execution_count": null,
   "metadata": {},
   "outputs": [],
   "source": [
    "# get coefficient, intercept, and regression line equation for the loudness-energy model\n",
    "coef_loudness_energy = model.coef_[0]\n",
    "intercept_loudness_energy = model.intercept_\n",
    "regline_loudness_energy = f\"y = {round(model.coef_[0], 2)}x + {round(model.intercept_, 2)}\"\n",
    "\n",
    "# import metric functions from sklearn metrics library\n",
    "from sklearn.metrics import r2_score\n",
    "from sklearn.metrics import mean_squared_error\n",
    "from sklearn.metrics import mean_absolute_error\n",
    "\n",
    "# get standard metrics (for later comparative analysis)\n",
    "R2_loudness_energy = r2_score(y_test, y_pred) # R^2 coefficient\n",
    "mae_loudness_energy = mean_absolute_error(y_test, y_pred) # mean absolute error\n",
    "mse_loudness_energy = mean_squared_error(y_test, y_pred) # mean squared error"
   ]
  },
  {
   "cell_type": "markdown",
   "metadata": {},
   "source": [
    "### 7. Comparative Analysis On Performance Of The Prior Two Linear Models"
   ]
  },
  {
   "cell_type": "code",
   "execution_count": null,
   "metadata": {},
   "outputs": [],
   "source": [
    "# basic model aspects for the each model\n",
    "print(\"DURATION-POPULARITY MODEL:\\n\")\n",
    "print(f\"Coefficient:                    {coef_duration_popularity}\")\n",
    "print(f\"Intercept:                      {intercept_duration_popularity}\")\n",
    "print(f\"Regression Line Equation:       {regline_duration_popularity}\\n\")\n",
    "\n",
    "# basic model aspects for the duration-popularity model\n",
    "print(\"LOUDNESS-ENERGY MODEL:\\n\")\n",
    "print(f\"Coefficient:                    {coef_loudness_energy}\")\n",
    "print(f\"Intercept:                      {intercept_loudness_energy}\")\n",
    "print(f\"Regression Line Equation:       {regline_loudness_energy}\")"
   ]
  },
  {
   "cell_type": "code",
   "execution_count": null,
   "metadata": {},
   "outputs": [],
   "source": [
    "# compare R^2 scores\n",
    "print(f\"R2 Score for Duration-Popularity Model:     {R2_duration_popularity}\")\n",
    "print(f\"R2 Score for Loudness-Energy Model:         {R2_loudness_energy}\")"
   ]
  },
  {
   "cell_type": "code",
   "execution_count": null,
   "metadata": {},
   "outputs": [],
   "source": [
    "# compare mean absolute error scores\n",
    "print(f\"Mean Absolute Error for Duration-Popularity Model:     {mae_duration_popularity}\")\n",
    "print(f\"Mean Absolute Error for Loudness-Energy Model:         {mae_loudness_energy}\")"
   ]
  },
  {
   "cell_type": "code",
   "execution_count": null,
   "metadata": {},
   "outputs": [],
   "source": [
    "# compare mean squared error scores\n",
    "print(f\"Mean Squared Error for Duration-Popularity Model:     {mse_duration_popularity}\")\n",
    "print(f\"Mean Squared Error for Loudness-Energy Model:         {mse_loudness_energy}\")"
   ]
  },
  {
   "cell_type": "markdown",
   "metadata": {},
   "source": [
    "#### Conclusions:\n",
    "\n",
    "* There is a noticable relationship between a song's percieved loudness and its percieved energy; there is no such significant relationship between a song's duration length and its popularity\n",
    "* The Loudness-Energy model accounts for approximately 46.3% of variability in the dataset, whereas the Duration-Popularity model accounts for only 1.64% of variability\n",
    "* The Duration-Popularity model has noticably higher error scores than does the Loudness-Energy model"
   ]
  }
 ],
 "metadata": {
  "kernelspec": {
   "display_name": "Python 3 (ipykernel)",
   "language": "python",
   "name": "python3"
  },
  "language_info": {
   "codemirror_mode": {
    "name": "ipython",
    "version": 3
   },
   "file_extension": ".py",
   "mimetype": "text/x-python",
   "name": "python",
   "nbconvert_exporter": "python",
   "pygments_lexer": "ipython3",
   "version": "3.12.4"
  }
 },
 "nbformat": 4,
 "nbformat_minor": 4
}
