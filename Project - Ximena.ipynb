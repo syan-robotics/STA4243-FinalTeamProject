{
 "cells": [
  {
   "cell_type": "markdown",
   "id": "64378b52-594a-47a3-91a7-4909312e5840",
   "metadata": {},
   "source": [
    "# Final project\n",
    "##  Proportional distribution of genre categories"
   ]
  },
  {
   "cell_type": "code",
   "execution_count": null,
   "id": "3c3a44a2-b86e-4798-91f3-fab05e139d48",
   "metadata": {},
   "outputs": [],
   "source": [
    "import pandas as pd\n",
    "import matplotlib.pyplot as plt\n",
    "import seaborn as sns"
   ]
  },
  {
   "cell_type": "code",
   "execution_count": null,
   "id": "0263bb11-d10d-489e-a97f-ec921609b4b6",
   "metadata": {},
   "outputs": [],
   "source": [
    "data = pd.read_csv(\"spotify_songs.csv\") #Load data"
   ]
  },
  {
   "cell_type": "code",
   "execution_count": null,
   "id": "0630da6a-d13d-49c8-8c04-bb68d557350f",
   "metadata": {},
   "outputs": [],
   "source": [
    "genre_counts = data['playlist_genre'].value_counts() #Counts hoy many times a genre is found in the database"
   ]
  },
  {
   "cell_type": "code",
   "execution_count": null,
   "id": "360cd3b7-de21-48a6-a1a8-f1d065a00f74",
   "metadata": {},
   "outputs": [],
   "source": [
    "colors = sns.color_palette(\"Greens\") #setting green palette\n",
    "\n",
    "#Plot\n",
    "plt.pie(genre_counts.values, colors=colors, autopct='%1.1f%%', wedgeprops={'edgecolor': 'black'}) # Autopct shows the percentages of each genre & Wedgeprops adds black edges for clarity\n",
    "\n",
    "#Add legend with genres\n",
    "plt.legend(labels=genre_counts.index, title=\"Genres\", fontsize=10, bbox_to_anchor=(1.2, .7)) #bbox_to_anchor gives the position of the legend box\n",
    "\n",
    "plt.title('Proportional Distribution of Spotify Genres (2020)', fontsize=14)\n",
    "plt.show()"
   ]
  },
  {
   "cell_type": "markdown",
   "id": "979a9324-dbe6-4833-86fc-821ca4250334",
   "metadata": {},
   "source": [
    "The chart reveals that **EDM, Rap, and Pop** are the most listen genres in Spotify, however no single genre strongly dominates. The difference between the top (EDM) and the lowest genre (Rock) is less than 4%. This genre diversity suggests that listeners in 2020 valued music variety and were open to exploring different styles."
   ]
  },
  {
   "cell_type": "markdown",
   "id": "b684b912",
   "metadata": {},
   "source": [
    "## Genres popularity"
   ]
  },
  {
   "cell_type": "code",
   "execution_count": null,
   "id": "5b58d7a5",
   "metadata": {},
   "outputs": [],
   "source": [
    "#Group by Genre and calculate the average track_popularity score\n",
    "top_genres = (data.groupby(\"playlist_genre\")[\"track_popularity\"].mean().sort_values(ascending=False).reset_index()) "
   ]
  },
  {
   "cell_type": "code",
   "execution_count": null,
   "id": "30052df2",
   "metadata": {},
   "outputs": [],
   "source": [
    "# Rename column\n",
    "top_genres = top_genres.rename(columns={\"track_popularity\": \"average_popularity\"}) "
   ]
  },
  {
   "cell_type": "code",
   "execution_count": null,
   "id": "e1393600",
   "metadata": {},
   "outputs": [],
   "source": [
    "#Plot\n",
    "bar=sns.barplot(x=top_genres['playlist_genre'], y=top_genres['average_popularity'], data=top_genres, palette='Greens_d')\n",
    "plt.title('Genres by Average Popularity', fontsize=14)\n",
    "plt.xlabel('Genre', fontsize=12)\n",
    "plt.ylabel('Average Popularity', fontsize=12)\n",
    "bar.bar_label(bar.containers[0], fmt='%.2f') #bar_label shows the popularity score of each genre\n",
    "plt.show()"
   ]
  },
  {
   "cell_type": "markdown",
   "id": "4455226d",
   "metadata": {},
   "source": [
    "The **Pop** genre has the highest average popularity score (47.74), closely followed by **Latin** (47.03). These genres might resonate most with listeners in 2020. There is a noticeable gap between the top genres and the lowest-performing genre (**EDM**). The difference of about 13 points suggests a clear distinction in audience preference."
   ]
  },
  {
   "cell_type": "markdown",
   "id": "2e35e611-5302-4506-87a7-434a31be728c",
   "metadata": {},
   "source": [
    "## Top 5 artists in terms of popularity score"
   ]
  },
  {
   "cell_type": "code",
   "execution_count": null,
   "id": "c63cf3db-f254-4267-907b-f4076cc752f4",
   "metadata": {},
   "outputs": [],
   "source": [
    "#Group by Artist and calculate the average track_popularity score\n",
    "top_artists = (data.groupby(\"track_artist\")[\"track_popularity\"].mean().sort_values(ascending=False).reset_index()) "
   ]
  },
  {
   "cell_type": "code",
   "execution_count": null,
   "id": "a09c7382-0d96-4ee1-8aa0-f9e0a744ab61",
   "metadata": {},
   "outputs": [],
   "source": [
    "top_artists = top_artists.rename(columns={\"track_popularity\": \"average_popularity\"}) # Rename column\n",
    "top_artists.head(5) # Save top 5"
   ]
  },
  {
   "cell_type": "code",
   "execution_count": null,
   "id": "231ce0cc",
   "metadata": {},
   "outputs": [],
   "source": [
    "#plot\n",
    "sns.barplot(x=top_artists['track_artist'], y=top_artists['average_popularity'], data=top_artists, palette='Greens_d')\n",
    "plt.title('Top Artists by Average Popularity', fontsize=14)\n",
    "plt.xlabel('Artist', fontsize=12)\n",
    "plt.ylabel('Average Popularity', fontsize=12)\n",
    "plt.ylim(80, 100)  # Change y-axis limits for better visualization\n",
    "plt.show()"
   ]
  },
  {
   "cell_type": "markdown",
   "id": "bb37c741-9c0c-418c-9347-69fbb657f605",
   "metadata": {},
   "source": [
    "These artists have the highest average popularity scores across their tracks. This indicate that they dominated listener preferences in 2020, maintaining a high level of popularity across multiple tracks in the dataset. **Trevor Daniel** leads with the highest average popularity score of 97, making him the most popular artist of the database. **Y2K** and **Don Toliver** follow closely, with their average scores ~91. Finally, **Roddy Ricch**, and **DaBaby** complete the list, with average scores ~88."
   ]
  }
 ],
 "metadata": {
  "kernelspec": {
   "display_name": "Python 3 (ipykernel)",
   "language": "python",
   "name": "python3"
  },
  "language_info": {
   "codemirror_mode": {
    "name": "ipython",
    "version": 3
   },
   "file_extension": ".py",
   "mimetype": "text/x-python",
   "name": "python",
   "nbconvert_exporter": "python",
   "pygments_lexer": "ipython3",
   "version": "3.11.5"
  }
 },
 "nbformat": 4,
 "nbformat_minor": 5
}
