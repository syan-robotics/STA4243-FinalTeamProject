{
 "cells": [
  {
   "cell_type": "markdown",
   "metadata": {},
   "source": [
    "# YOUR PYTHON 2020 WRAPPED\n",
    "### Spotify Data Analysis\n",
    "\n",
    "Contributors:\n",
    "* Robert Hall\n",
    "* Ryan Berberek\n",
    "* Ximena Cid Sanabria\n",
    "* Max Moran"
   ]
  },
  {
   "cell_type": "markdown",
   "metadata": {},
   "source": [
    "### Table of Contents:\n",
    "\n",
    "1. Data Importation & Exploratory Data Analysis\n",
    "2. Who Are The Top 5 Artists Represented In The Dataset?\n",
    "3. What Genre Categories Are Represented? What Is The Proportional Distribution Of Genres?\n",
    "4. Visualizing Each Variable's Correlation With The Others Using A Correlation Matrix\n",
    "5. Linear Model To Analyze The Correlation Between Song Duration (`song_duration`) And Popularity Score (`track_score`)\n",
    "6. Linear Model To Analyze The Correlation Between Perceived Song Energy (`energy`) And Percieved Song Loudness (`loudness`)\n",
    "7. Comparative Analysis On Performance Of The Prior Two Linear Models"
   ]
  },
  {
   "cell_type": "markdown",
   "metadata": {},
   "source": []
  },
  {
   "cell_type": "markdown",
   "metadata": {},
   "source": [
    "### 1. Data Importation & Exploratory Data Analysis"
   ]
  },
  {
   "cell_type": "code",
   "execution_count": 1,
   "metadata": {},
   "outputs": [],
   "source": [
    "# Code Here"
   ]
  },
  {
   "cell_type": "markdown",
   "metadata": {},
   "source": [
    "### 2. Who Are The Top 5 Artists Represented In The Dataset?"
   ]
  },
  {
   "cell_type": "code",
   "execution_count": 2,
   "metadata": {},
   "outputs": [],
   "source": [
    "# Code Here"
   ]
  },
  {
   "cell_type": "markdown",
   "metadata": {},
   "source": [
    "### 3. What Genre Categories Are Represented? What Is The Proportional Distribution Of Genres?"
   ]
  },
  {
   "cell_type": "code",
   "execution_count": 3,
   "metadata": {},
   "outputs": [],
   "source": [
    "# Code Here"
   ]
  },
  {
   "cell_type": "markdown",
   "metadata": {},
   "source": [
    "### 4. Visualizing Each Variable's Correlation With The Others Using A Correlation Matrix"
   ]
  },
  {
   "cell_type": "code",
   "execution_count": 4,
   "metadata": {},
   "outputs": [],
   "source": [
    "# Code Here"
   ]
  },
  {
   "cell_type": "markdown",
   "metadata": {},
   "source": [
    "### 5. Linear Model To Analyze The Correlation Between Song Duration (`song_duration`) And Popularity Score (`track_score`)"
   ]
  },
  {
   "cell_type": "code",
   "execution_count": 5,
   "metadata": {},
   "outputs": [],
   "source": [
    "# Code Here"
   ]
  },
  {
   "cell_type": "markdown",
   "metadata": {},
   "source": [
    "### 6. Linear Model To Analyze The Correlation Between Perceived Song Energy (`energy`) And Percieved Song Loudness (`loudness`)"
   ]
  },
  {
   "cell_type": "code",
   "execution_count": 6,
   "metadata": {},
   "outputs": [],
   "source": [
    "# Code Here"
   ]
  },
  {
   "cell_type": "markdown",
   "metadata": {},
   "source": [
    "### 7. Comparative Analysis On Performance Of The Prior Two Linear Models"
   ]
  },
  {
   "cell_type": "code",
   "execution_count": 7,
   "metadata": {},
   "outputs": [],
   "source": [
    "# Code Here"
   ]
  }
 ],
 "metadata": {
  "kernelspec": {
   "display_name": "base",
   "language": "python",
   "name": "python3"
  },
  "language_info": {
   "codemirror_mode": {
    "name": "ipython",
    "version": 3
   },
   "file_extension": ".py",
   "mimetype": "text/x-python",
   "name": "python",
   "nbconvert_exporter": "python",
   "pygments_lexer": "ipython3",
   "version": "3.12.4"
  }
 },
 "nbformat": 4,
 "nbformat_minor": 2
}
